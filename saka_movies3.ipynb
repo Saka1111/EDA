{
 "cells": [
  {
   "cell_type": "markdown",
   "id": "3342fbdc-dad7-4cb5-8352-6b615afb787c",
   "metadata": {},
   "source": [
    "# TMDB Explorartory Data Analysis"
   ]
  },
  {
   "cell_type": "markdown",
   "id": "f38744f8-2eb4-4629-b711-277cabe25097",
   "metadata": {
    "jp-MarkdownHeadingCollapsed": true
   },
   "source": [
    "## Revenue and Popularity\n",
    "* **Why?**\n",
    "> The long term aim is make a movie recommendation system\\\n",
    "then it's best to explore the most popular movies so customers can enjoy\\\n",
    "and the movies that make the most money, to maximise profit.\n",
    "<div class = \"row\" style = \"display: table;\"\n",
    "  display: table;>\n",
    "    <div class = \"column\" style = \"float: left; padding: 5px;\">\n",
    "        <img src = 'AvgRevYear.png' height = 450px width = 450px>\n",
    "    </div>\n",
    "    <div class = \"column\" style = \"float: left; padding: 5px;\">\n",
    "        <img src = 'AvgPopYear.png' height = 450px width = 450px>\n",
    "    </div>\n",
    "</div>"
   ]
  },
  {
   "cell_type": "markdown",
   "id": "04884ee7-7c38-433d-9a59-61532f8275a5",
   "metadata": {
    "jp-MarkdownHeadingCollapsed": true
   },
   "source": [
    "## Genres\n",
    "<div class = \"row\" style = \"display: table;\">\n",
    "    <div class = \"column\" style = \"float: left; padding: 5px;\">\n",
    "        <img src = 'AvgRevGen.png' height = 450px width = 450px>\n",
    "    </div>\n",
    "    <div class = \"column\" style = \"float: left; padding: 5px;\">\n",
    "        <img src = 'AvgPopGen.png' height = 450px width = 450px>\n",
    "    </div>\n",
    "</div>\n",
    "\n",
    "### Top Genres by revenue:\n",
    "### **Animation, Adventure, Fantasy**\n",
    "\n",
    "### Top Genres by popularity:\n",
    "### **Animation, Adventure, Science Fiction**"
   ]
  },
  {
   "cell_type": "markdown",
   "id": "53cb76e6-093c-4f1b-af53-0d9e5228f662",
   "metadata": {},
   "source": [
    "## Movies\n",
    "<div class = \"row\" style = \"display: table;\">\n",
    "    <div class = \"column\" style = \"float: left; padding: 5px;\">\n",
    "        <img src = 'Top10MovieRev.png' height = 450px width = 450px>\n",
    "    </div>\n",
    "    <div class = \"column\" style = \"float: left; padding: 5px;\">\n",
    "        <img src = 'Top10MoviePop.png' height = 450px width = 450px>\n",
    "    </div>\n",
    "</div>\n",
    "\n",
    "### Top Movies by revenue:\n",
    "### **Avatar, Titanic, The Avengers**\n",
    "\n",
    "### Top Movies by popularity:\n",
    "### **Minions, Interstellar, Deadpool**"
   ]
  },
  {
   "cell_type": "markdown",
   "id": "02e8e233-7792-4ee2-a185-f3845f54fcbf",
   "metadata": {},
   "source": [
    "|Movie|Genre|\n",
    "|---|---|\n",
    "|Avatar||\n",
    "|Titanic||\n",
    "|The Avengers||\n",
    "|Minions||\n",
    "|Interstellar||\n",
    "|Deadpool||"
   ]
  },
  {
   "cell_type": "markdown",
   "id": "b8041866-3815-4345-a612-c3845ba9edf7",
   "metadata": {},
   "source": [
    "## Movie Comparison (or Genre)\n",
    "* Compare best and worst movies by popularity\n",
    "* Compare best and worst movies by revenue"
   ]
  },
  {
   "cell_type": "code",
   "execution_count": null,
   "id": "ea7084be-a906-4ce4-a80d-08806d694154",
   "metadata": {},
   "outputs": [],
   "source": []
  }
 ],
 "metadata": {
  "kernelspec": {
   "display_name": "Python [conda env:base] *",
   "language": "python",
   "name": "conda-base-py"
  },
  "language_info": {
   "codemirror_mode": {
    "name": "ipython",
    "version": 3
   },
   "file_extension": ".py",
   "mimetype": "text/x-python",
   "name": "python",
   "nbconvert_exporter": "python",
   "pygments_lexer": "ipython3",
   "version": "3.12.7"
  }
 },
 "nbformat": 4,
 "nbformat_minor": 5
}
