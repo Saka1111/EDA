{
 "cells": [
  {
   "cell_type": "markdown",
   "id": "3342fbdc-dad7-4cb5-8352-6b615afb787c",
   "metadata": {},
   "source": [
    "# TMDB Explorartory Data Analysis"
   ]
  },
  {
   "cell_type": "markdown",
   "id": "f38744f8-2eb4-4629-b711-277cabe25097",
   "metadata": {
    "jp-MarkdownHeadingCollapsed": true
   },
   "source": [
    "## Revenue and Popularity\n",
    "* **Why?**\n",
    "> The long term aim is make a movie recommendation system\\\n",
    "then it's best to explore the most popular movies so customers can enjoy\\\n",
    "and the movies that make the most money, to maximise profit.\n",
    "<div class = \"row\" style = \"display: table;\"\n",
    "  display: table;>\n",
    "    <div class = \"column\" style = \"float: left; padding: 5px;\">\n",
    "        <img src = 'https://raw.githubusercontent.com/Saka1111/EDA/refs/heads/main/AvgRevYear.png' height = 500px width = 450px>\n",
    "    </div>\n",
    "    <div class = \"column\" style = \"float: left; padding: 5px;\">\n",
    "        <img src = 'https://raw.githubusercontent.com/Saka1111/EDA/refs/heads/main/AvgPopYear.png' height = 500px width = 450px>\n",
    "    </div>\n",
    "</div>\n",
    "<p style = \"text-align: center\"><b>Overtime, both revenue and popularity increased throughout the millennium\n",
    "so we know that movies are continuously making money and they still have demand from customers</b></p>\n",
    "<br>"
   ]
  },
  {
   "cell_type": "markdown",
   "id": "04884ee7-7c38-433d-9a59-61532f8275a5",
   "metadata": {
    "jp-MarkdownHeadingCollapsed": true
   },
   "source": [
    "## Genres\n",
    "<div class = \"row\" style = \"display: table;\">\n",
    "    <div class = \"column\" style = \"float: left; padding: 5px;\">\n",
    "        <img src = 'https://raw.githubusercontent.com/Saka1111/EDA/refs/heads/main/AvgRevGen.png' height = 500px width = 475px>\n",
    "    </div>\n",
    "    <div class = \"column\" style = \"float: left; padding: 5px;\">\n",
    "        <img src = 'https://raw.githubusercontent.com/Saka1111/EDA/refs/heads/main/AvgPopGen.png' height = 500px width = 475px>\n",
    "    </div>\n",
    "</div>\n",
    "<div style = \"text-align: center;\">\n",
    "    <h3>Top Genres by revenue:</h3>\n",
    "    <h3><b>Animation, Adventure, Fantasy</b></h3>\n",
    "    <h3>Top Genres by popularity:</h3>\n",
    "    <h3><b>Animation, Adventure, Science Fiction</b></h3>\n",
    "</div>"
   ]
  },
  {
   "cell_type": "markdown",
   "id": "53cb76e6-093c-4f1b-af53-0d9e5228f662",
   "metadata": {},
   "source": [
    "## Movies\n",
    "<div class = \"row\" style = \"display: table;\">\n",
    "    <div class = \"column\" style = \"float: left; padding: 5px;\">\n",
    "        <img src = 'https://raw.githubusercontent.com/Saka1111/EDA/refs/heads/main/Top10MovieRev.png' height = 500px width = 475px>\n",
    "    </div>\n",
    "    <div class = \"column\" style = \"float: left; padding: 5px;\">\n",
    "        <img src = 'https://raw.githubusercontent.com/Saka1111/EDA/refs/heads/main/Top10MoviePop.png' height = 500px width = 475px>\n",
    "    </div>\n",
    "</div>\n",
    "<div style = \"text-align: center;\">\n",
    "    <h3>Top Movies by revenue:</h3>\n",
    "    <h3><b>Avatar, Titanic, The Avengers</b></h3>\n",
    "    <h3>Top Movies by popularity:</h3>\n",
    "    <h3><b>Minions, Interstellar, Deadpool</b></h3>\n",
    "</div>"
   ]
  },
  {
   "cell_type": "markdown",
   "id": "67cc85e7-c82e-439f-a8e5-0b0f4f6af7dc",
   "metadata": {},
   "source": [
    "<br>\n",
    "\n",
    "|Movie|Genre|\n",
    "|---|---|\n",
    "|Avatar|Action, **Adventure**, Fantasy, **Science Fiction**|\n",
    "|Titanic|Drama, Romance, Thriller|\n",
    "|The Avengers|**Science Fiction**, Action, **Adventure**|\n",
    "|Minions|Family, **Animation**, **Adventure**, Comedy|\n",
    "|Interstellar|**Adventure**, Drama, **Science Fiction**|\n",
    "|Deadpool|Action, **Adventure**, Comedy|\n",
    "\n",
    "<br>\n",
    "<p style = \"text-align: center;\"><b>These movies score high in revenue and popularity because they are part of the top genres</b></p>"
   ]
  },
  {
   "cell_type": "markdown",
   "id": "b8041866-3815-4345-a612-c3845ba9edf7",
   "metadata": {},
   "source": [
    "## Movie Comparison (or Genre)\n",
    "* Compare best and worst movies by popularity\n",
    "* Compare best and worst movies by revenue"
   ]
  },
  {
   "cell_type": "code",
   "execution_count": null,
   "id": "ea7084be-a906-4ce4-a80d-08806d694154",
   "metadata": {},
   "outputs": [],
   "source": []
  }
 ],
 "metadata": {
  "kernelspec": {
   "display_name": "Python [conda env:base] *",
   "language": "python",
   "name": "conda-base-py"
  },
  "language_info": {
   "codemirror_mode": {
    "name": "ipython",
    "version": 3
   },
   "file_extension": ".py",
   "mimetype": "text/x-python",
   "name": "python",
   "nbconvert_exporter": "python",
   "pygments_lexer": "ipython3",
   "version": "3.12.7"
  }
 },
 "nbformat": 4,
 "nbformat_minor": 5
}
